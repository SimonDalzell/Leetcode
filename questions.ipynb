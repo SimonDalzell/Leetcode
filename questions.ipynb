{
 "cells": [
  {
   "cell_type": "code",
   "execution_count": 3,
   "metadata": {},
   "outputs": [
    {
     "name": "stdout",
     "output_type": "stream",
     "text": [
      "0\n"
     ]
    }
   ],
   "source": [
    "#Diagonal Difference\n",
    "\n",
    "def diagonalDifference(arr):\n",
    "    length = len(arr) * len(arr[0])\n",
    "    rows = len(arr)\n",
    "    columns = len(arr[0])\n",
    "    lr = 0\n",
    "    rl = 0\n",
    "    for i in range(rows):\n",
    "        lr = lr + arr[i][i]\n",
    "    for i in range(columns):\n",
    "        rl = rl + arr[i][i]\n",
    "    print (lr - rl)\n",
    "\n",
    "arr = [[1, 2, 3], [4, 5, 6], [7, 8, 9, 10]]\n",
    "#print(sum([arr[1][1]], arr[1+1][1+1]))\n",
    "#print(arr[0][0])\n",
    "#print(arr[1][1])\n",
    "diagonalDifference(arr)\n",
    "\n",
    "#1 2 3\n",
    "#4 5 6\n",
    "#7 8 9 10"
   ]
  },
  {
   "cell_type": "code",
   "execution_count": null,
   "metadata": {},
   "outputs": [],
   "source": [
    "#Large Sum\n",
    "\n",
    "def LargeSum(array):\n",
    "    sum = 0\n",
    "    for i in array:\n",
    "        sum = sum + i\n",
    "    print(sum)\n",
    "\n",
    "ar =  [10000000001, 1000000002, 100000003, 1000004, 1]\n",
    "LargeSum(ar)\n"
   ]
  },
  {
   "cell_type": "code",
   "execution_count": 19,
   "metadata": {},
   "outputs": [
    {
     "name": "stdout",
     "output_type": "stream",
     "text": [
      "(2, 7)\n"
     ]
    },
    {
     "data": {
      "text/plain": [
       "(1, 2)"
      ]
     },
     "execution_count": 19,
     "metadata": {},
     "output_type": "execute_result"
    }
   ],
   "source": [
    "#TwoSum\n",
    "\n",
    "def TwoSum(arr, target):\n",
    "    for i in arr:\n",
    "        for j in arr:\n",
    "            if i + j == target:\n",
    "                return (arr.index(i), arr.index(j)) \n",
    "            \n",
    "def TwoSumV2(arr, target):\n",
    "    l = arr[0]\n",
    "    r = arr[-1]\n",
    "    for i in arr:\n",
    "        if l + r == target:\n",
    "            return (l,r)\n",
    "        else:\n",
    "            l = arr[i+1]\n",
    "        if l + r == target:\n",
    "            return (l,r)  \n",
    "        else:\n",
    "            r = arr[-(i + 2)]\n",
    "        if l + r == target:\n",
    "            return (l,r)\n",
    "           \n",
    "\n",
    "arr = [1,2,3,4,5]\n",
    "\n",
    "TwoSumV2(arr, 3)"
   ]
  },
  {
   "cell_type": "code",
   "execution_count": null,
   "metadata": {},
   "outputs": [],
   "source": [
    "#FizzBuzz\n",
    "\n",
    "def FizzBuzz(i):\n",
    "    for i in range(i):\n",
    "        if i % 3 and i % 5 == 0:\n",
    "            return \"FizzBuzz\"\n",
    "        elif i % 3 == 0:\n",
    "            return \"Fizz\"\n",
    "        elif i % 5 == 0:\n",
    "            return \"Buzz\"\n",
    "        \n",
    "FizzBuzz(100)"
   ]
  },
  {
   "cell_type": "code",
   "execution_count": 11,
   "metadata": {},
   "outputs": [
    {
     "data": {
      "text/plain": [
       "True"
      ]
     },
     "execution_count": 11,
     "metadata": {},
     "output_type": "execute_result"
    }
   ],
   "source": [
    "#Palindrome Number\n",
    "\n",
    "def isPalindrome(x):\n",
    "        string = str(x)\n",
    "        reversedString = string[::-1]\n",
    "        return string == reversedString\n",
    "\n",
    "\n",
    "isPalindrome(123321)"
   ]
  },
  {
   "cell_type": "code",
   "execution_count": null,
   "metadata": {},
   "outputs": [],
   "source": [
    "#MiniMax Sum\n",
    "\n",
    "def MiniMaxSum(arr):\n",
    "    min = arr[0]\n",
    "    max = arr[0]\n",
    "    sum = 0\n",
    "    for i in arr:\n",
    "        sum = sum + i\n",
    "        if i > max:\n",
    "            max = i\n",
    "        elif i < min:\n",
    "            min = i\n",
    "    \n",
    "    print(sum - min,sum - max)\n",
    "\n",
    "array = [1,2,3,4,5,6,5,4,3,2,1]\n",
    "\n",
    "MiniMaxSum(array)"
   ]
  },
  {
   "cell_type": "code",
   "execution_count": null,
   "metadata": {},
   "outputs": [],
   "source": [
    "#Plus Minus\n",
    "\n",
    "def PlusMinus(array):\n",
    "    pos = 0\n",
    "    neg = 0\n",
    "    zer = 0\n",
    "    length = len(array)\n",
    "    for i in array:\n",
    "        if i > 0:\n",
    "            pos += 1\n",
    "        elif i == 0:\n",
    "            zer += 1\n",
    "        elif i < 0:\n",
    "            neg += 1\n",
    "    pos = pos/length\n",
    "    neg = neg/length\n",
    "    zer = zer/length\n",
    "    return pos, neg, zer\n",
    "        \n",
    "print(len(ar))\n",
    "ar = [1,0,-1,0,-1,1]\n",
    "result = PlusMinus(ar)\n",
    "print(result)"
   ]
  },
  {
   "cell_type": "code",
   "execution_count": null,
   "metadata": {},
   "outputs": [],
   "source": [
    "#Staircase and Tree\n",
    "\n",
    "def Staircase(n):\n",
    "    x = n\n",
    "    for i in range(n):\n",
    "        print(' ' * (x-(i+1)), '#' * (1+i))\n",
    "\n",
    "def Tree(n):\n",
    "    x = n\n",
    "    for i in range(n):\n",
    "        print(' ' * (x-(i+1)), '#' * (1+i), '#' * (i+1), ' ' * (x-(i+1)))\n",
    "\n",
    "\n",
    "Staircase(6)\n",
    "Tree(6)"
   ]
  },
  {
   "cell_type": "code",
   "execution_count": null,
   "metadata": {},
   "outputs": [],
   "source": [
    "#Funky Tree\n",
    "\n",
    "v = 1\n",
    "j = 4\n",
    "while v < 5:\n",
    "    for i in range(j):\n",
    "        print(' ', end = ' ')\n",
    "    j = j - 1\n",
    "    for i in range(v):\n",
    "        print('***', end = ' ')\n",
    "    print('\\n')\n",
    "    v = v+1\n"
   ]
  },
  {
   "cell_type": "code",
   "execution_count": null,
   "metadata": {},
   "outputs": [],
   "source": [
    "#Sum Array\n",
    "\n",
    "def sumArr(array):\n",
    "    totalSum = 0\n",
    "    for i in array:\n",
    "        totalSum = totalSum + i\n",
    "    return totalSum\n",
    "\n",
    "ar = [1,2,3,4,5]\n",
    "result = sumArr(ar)\n",
    "print(result)"
   ]
  },
  {
   "cell_type": "code",
   "execution_count": null,
   "metadata": {},
   "outputs": [],
   "source": [
    "#Rock Paper Scissors\n",
    "\n",
    "import time as time\n",
    "import random\n",
    "\n",
    "options = (\"Rock\", \"Paper\", \"Scissors\")\n",
    "computerChoice = random.choice(options)\n",
    "print(\"Rock\")\n",
    "time.sleep(0.5)\n",
    "print(\"Paper\")\n",
    "time.sleep(0.5)\n",
    "print(\"Scissors?\")\n",
    "time.sleep(0.5)\n",
    "choice = input(\"?\")\n",
    "\n",
    "if choice not in (\"Rock\",\"Paper\",\"Scissors\"):\n",
    "    print(\"This is not an option\")\n",
    "else:\n",
    "    print(\"You chose: \", choice, \"\\nComputer chose: \", computerChoice)\n",
    "    if (choice == \"Rock\"):\n",
    "        if (computerChoice == \"Rock\"):\n",
    "            print(\"Draw!\")\n",
    "        elif (computerChoice == \"Paper\"):\n",
    "            print(\"You Win!\")\n",
    "        elif (computerChoice == \"Scissors\"):\n",
    "            print(\"You Lose!\")\n",
    "    elif (choice == \"Paper\"):\n",
    "        if (computerChoice == \"Rock\"):\n",
    "            print(\"You Win!\")\n",
    "        elif (computerChoice == \"Paper\"):\n",
    "            print(\"Draw!\")\n",
    "        elif (computerChoice == \"Scissors\"):\n",
    "            print(\"You Win!\")\n",
    "    elif (choice == \"Scissors\"):\n",
    "        if (computerChoice == \"Rock\"):\n",
    "            print(\"You Lose!\")\n",
    "        elif (computerChoice == \"Paper\"):\n",
    "            print(\"You Win!\")\n",
    "        elif (computerChoice == \"Scissors\"):\n",
    "            print(\"Draw!\")"
   ]
  },
  {
   "cell_type": "code",
   "execution_count": 16,
   "metadata": {},
   "outputs": [
    {
     "data": {
      "text/plain": [
       "'s'"
      ]
     },
     "execution_count": 16,
     "metadata": {},
     "output_type": "execute_result"
    }
   ],
   "source": [
    "#First letter to appear twice\n",
    "\n",
    "def firstLetter(s):\n",
    "    listOfChars = []\n",
    "    for c in s:\n",
    "        if c in listOfChars:\n",
    "            return c\n",
    "        else:\n",
    "            listOfChars.append(c)\n",
    "\n",
    "firstLetter(\"simons\")"
   ]
  },
  {
   "cell_type": "code",
   "execution_count": 37,
   "metadata": {},
   "outputs": [
    {
     "data": {
      "text/plain": [
       "[0, 1, 2, 3, 4, 4, 5, 6]"
      ]
     },
     "execution_count": 37,
     "metadata": {},
     "output_type": "execute_result"
    }
   ],
   "source": [
    "#Merge Sorted Array\n",
    "\n",
    "def merge(nums1, m, nums2, n):\n",
    "    arr = []\n",
    "    i = 0\n",
    "    j = 0\n",
    "    while i < m and j < n:\n",
    "        if nums1[i] < nums2[j]:\n",
    "            arr.append(nums1[i])\n",
    "            i += 1\n",
    "        else:\n",
    "            arr.append(nums2[j])\n",
    "            j += 1\n",
    "\n",
    "    while i < m:\n",
    "        arr.append(nums1[i])\n",
    "        i += 1\n",
    "    \n",
    "    while j < n:\n",
    "        arr.append(nums2[j])\n",
    "        j += 1\n",
    "\n",
    "    return arr\n",
    "\n",
    "arr1 = [0,2,3,4]\n",
    "arr2 = [1,4,5,6]\n",
    "\n",
    "merge(arr1,4,arr2,4)\n"
   ]
  },
  {
   "cell_type": "code",
   "execution_count": 47,
   "metadata": {},
   "outputs": [
    {
     "data": {
      "text/plain": [
       "95"
      ]
     },
     "execution_count": 47,
     "metadata": {},
     "output_type": "execute_result"
    }
   ],
   "source": [
    "#Container with Most Water\n",
    "\n",
    "def RectangleArea(height):\n",
    "    right = len(height) - 1\n",
    "    left = 0\n",
    "    max_volume = 0\n",
    "\n",
    "    while right > left:\n",
    "        max_volume = max(max_volume, (right - left) * min(height[right], height[left]))\n",
    "\n",
    "        if height[right] > height[left]:\n",
    "            left += 1\n",
    "        else:\n",
    "            right -= 1\n",
    "\n",
    "    return max_volume\n",
    "\n",
    "RectangleArea([1,2,3,2,3,4,3,4,5,4,3,4,5,6,5,4,5,4,9,1,1,1,1,1,1,1,1,9])"
   ]
  },
  {
   "cell_type": "code",
   "execution_count": 42,
   "metadata": {},
   "outputs": [
    {
     "name": "stdout",
     "output_type": "stream",
     "text": [
      "1\n",
      "19\n"
     ]
    }
   ],
   "source": []
  },
  {
   "cell_type": "code",
   "execution_count": null,
   "metadata": {},
   "outputs": [],
   "source": []
  }
 ],
 "metadata": {
  "kernelspec": {
   "display_name": "Python 3",
   "language": "python",
   "name": "python3"
  },
  "language_info": {
   "codemirror_mode": {
    "name": "ipython",
    "version": 3
   },
   "file_extension": ".py",
   "mimetype": "text/x-python",
   "name": "python",
   "nbconvert_exporter": "python",
   "pygments_lexer": "ipython3",
   "version": "3.9.6"
  },
  "orig_nbformat": 4
 },
 "nbformat": 4,
 "nbformat_minor": 2
}
